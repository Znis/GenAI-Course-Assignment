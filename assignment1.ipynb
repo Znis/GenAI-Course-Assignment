{
 "cells": [
  {
   "cell_type": "markdown",
   "metadata": {},
   "source": [
    "# <b>Getting started with Generative-AI </b>\n",
    "Submitted By: <b><i>Jenish Twayana</i></b>  \n",
    "\n",
    "Submitted Date: <b><i>2nd September, 2024</i></b>  \n"
   ]
  },
  {
   "cell_type": "markdown",
   "metadata": {},
   "source": [
    "## <b>Exercise 1: Sentiment Analysis and Moderation</b>"
   ]
  },
  {
   "cell_type": "markdown",
   "metadata": {},
   "source": [
    "Objective: Analyze the sentiment of given texts and identify any content that may require\n",
    "moderation based on predefined guidelines. Display the output in JSON format."
   ]
  },
  {
   "cell_type": "markdown",
   "metadata": {},
   "source": [
    "### Set up the client and function"
   ]
  },
  {
   "cell_type": "code",
   "execution_count": null,
   "metadata": {},
   "outputs": [],
   "source": [
    "#install openai package\n",
    "%pip install openai"
   ]
  },
  {
   "cell_type": "code",
   "execution_count": 42,
   "metadata": {},
   "outputs": [],
   "source": [
    "#importing necessary packages\n",
    "from openai import OpenAI\n",
    "import json\n",
    "import os"
   ]
  },
  {
   "cell_type": "code",
   "execution_count": 43,
   "metadata": {},
   "outputs": [],
   "source": [
    "#initialize openai client\n",
    "openai_api_key = os.getenv(\"OPENAI_API_KEY\")\n",
    "client = OpenAI(api_key=openai_api_key)\n",
    "model = \"gpt-3.5-turbo\""
   ]
  },
  {
   "cell_type": "code",
   "execution_count": 44,
   "metadata": {},
   "outputs": [],
   "source": [
    "#function for calling api\n",
    "def get_completion(system_prompt, user_prompt, model=\"gpt-3.5-turbo\"):\n",
    "    messages = [\n",
    "    {\"role\": \"system\", \"content\": system_prompt},\n",
    "    {\"role\": \"user\", \"content\": user_prompt}\n",
    "    ]\n",
    "    response = client.chat.completions.create(\n",
    "    model=model,\n",
    "    messages=messages,\n",
    "    temperature=0,\n",
    "    )\n",
    "    return response.choices[0].message.content"
   ]
  },
  {
   "cell_type": "markdown",
   "metadata": {},
   "source": [
    "### Step 1: Sentiment Analysis  \n",
    "Task: Given a list of text snippets, analyze the sentiment of each snippet (positive, negative, or\n",
    "neutral).  \n",
    "\n",
    "Texts:  \n",
    "\n",
    "1. \"I had an amazing experience at the new restaurant downtown!\"  \n",
    "2. \"The service was terrible, and I will never go back.\"  \n",
    "3. \"It was an okay movie, nothing special.\"  \n",
    "4. \"The product quality is outstanding, I highly recommend it.\"  \n",
    "5. \"I'm extremely disappointed with my purchase.\"  \n",
    "6. \"The weather is nice today.\"  "
   ]
  },
  {
   "cell_type": "markdown",
   "metadata": {},
   "source": [
    "Instructions for Sentiment Analysis: \n",
    " \n",
    "● For each text in Step 1, determine whether the sentiment is positive, negative, or neutral.  \n",
    "● Explain the reasoning behind the classification."
   ]
  },
  {
   "cell_type": "code",
   "execution_count": 45,
   "metadata": {},
   "outputs": [],
   "source": [
    "#list of sentiment analysis messages\n",
    "sentiment_analysis_messages = [\n",
    "\"I had an amazing experience at the new restaurant downtown!\",\n",
    "\"The service was terrible, and I will never go back.\",\n",
    "\"It was an okay movie, nothing special.\",\n",
    "\"The product quality is outstanding, I highly recommend it.\",\n",
    "\"I'm extremely disappointed with my purchase.\",\n",
    "\"The weather is nice today.\"\n",
    "]"
   ]
  },
  {
   "cell_type": "code",
   "execution_count": 46,
   "metadata": {},
   "outputs": [],
   "source": [
    "#desired response in valid JSON format\n",
    "sentiment_analysis_response_example = '''\n",
    "{\n",
    "\"Text\": \"I had an amazing experience at the new restaurant downtown!\",\n",
    "\"Sentiment\": \"Positive\",\n",
    "\"Reasoning\": \"The use of words like \"amazing\" and \"experience\" in a\n",
    "positive context indicates a positive sentiment.\"\n",
    "}\n",
    "'''"
   ]
  },
  {
   "cell_type": "code",
   "execution_count": 47,
   "metadata": {},
   "outputs": [],
   "source": [
    "#system prompt for sentiment analysis\n",
    "sentiment_analysis_task_system_prompt = f'''\n",
    "Classify the sentiment of the following text into one of the following: positive, negative or neutral.\n",
    "Provide the reasoning for the classification.\n",
    "Here is an example:\n",
    "Prompt: \"I had an amazing experience at the new restaurant downtown!\"\n",
    "Desired Response in valid JSON format: {sentiment_analysis_response_example}\n",
    "'''"
   ]
  },
  {
   "cell_type": "code",
   "execution_count": 48,
   "metadata": {},
   "outputs": [
    {
     "name": "stdout",
     "output_type": "stream",
     "text": [
      "{\n",
      "\"Text\": \"I had an amazing experience at the new restaurant downtown!\",\n",
      "\"Sentiment\": \"Positive\",\n",
      "\"Reasoning\": \"The use of words like 'amazing' and 'experience' in a positive context indicates a positive sentiment.\"\n",
      "}\n",
      "{\n",
      "\"Text\": \"The service was terrible, and I will never go back.\",\n",
      "\"Sentiment\": \"Negative\",\n",
      "\"Reasoning\": \"The use of words like 'terrible' and 'never go back' express a negative sentiment towards the service received.\"\n",
      "}\n",
      "{\n",
      "\"Text\": \"It was an okay movie, nothing special.\",\n",
      "\"Sentiment\": \"Neutral\",\n",
      "\"Reasoning\": \"The use of words like 'okay' and 'nothing special' suggests a neutral sentiment, indicating a lack of strong positive or negative feelings towards the movie.\"\n",
      "}\n",
      "{\n",
      "\"Text\": \"The product quality is outstanding, I highly recommend it.\",\n",
      "\"Sentiment\": \"Positive\",\n",
      "\"Reasoning\": \"The use of words like 'outstanding' and 'highly recommend' convey a positive sentiment towards the product quality, indicating a positive sentiment overall.\"\n",
      "}\n",
      "{\n",
      "\"Text\": \"I'm extremely disappointed with my purchase.\",\n",
      "\"Sentiment\": \"Negative\",\n",
      "\"Reasoning\": \"The use of words like 'disappointed' and 'extremely' conveys a negative sentiment towards the purchase.\"\n",
      "}\n",
      "{\n",
      "\"Text\": \"The weather is nice today.\",\n",
      "\"Sentiment\": \"Positive\",\n",
      "\"Reasoning\": \"The word 'nice' indicates a positive sentiment towards the weather.\"\n",
      "}\n"
     ]
    }
   ],
   "source": [
    "#generate responses and store in list\n",
    "sentiment_analysis_responses_json = []\n",
    "for message in sentiment_analysis_messages:\n",
    "    response = get_completion(sentiment_analysis_task_system_prompt, message)\n",
    "    print(response)\n",
    "    sentiment_analysis_responses_json.append(json.loads(response))"
   ]
  },
  {
   "cell_type": "markdown",
   "metadata": {},
   "source": [
    "### Step 2: Content Moderation  \n",
    "Task: Identify any text snippets that may contain harmful, offensive, or inappropriate content and\n",
    "suggest moderation actions.  \n",
    "\n",
    "Texts:  \n",
    "\n",
    "1. \"I can't believe they hired such an incompetent person!\"  \n",
    "2. \"This is a wonderful community, and I love being part of it.\"  \n",
    "3. \"The event was a disaster; the organizers did a horrible job.\"  \n",
    "4. \"You are such an idiot for thinking that!\"  \n",
    "5. \"I support everyone who works hard to achieve their dreams.\"  \n",
    "6. \"Get lost, no one wants you here!\"  "
   ]
  },
  {
   "cell_type": "markdown",
   "metadata": {},
   "source": [
    "Instructions for Content Moderation:  \n",
    "\n",
    "● For each text in Step 2, identify if the content is harmful, offensive, or inappropriate.  \n",
    "● Suggest a moderation action (e.g., warning, content removal, etc.) and explain why."
   ]
  },
  {
   "cell_type": "code",
   "execution_count": 49,
   "metadata": {},
   "outputs": [],
   "source": [
    "#list of content_moderation messages\n",
    "content_moderation_messages = [\n",
    "\"I can't believe they hired such an incompetent person!\",\n",
    "\"This is a wonderful community, and I love being part of it.\",\n",
    "\"The event was a disaster; the organizers did a horrible job.\",\n",
    "\"You are such an idiot for thinking that!\",\n",
    "\"I support everyone who works hard to achieve their dreams.\",\n",
    "\"Get lost, no one wants you here!\"\n",
    "]"
   ]
  },
  {
   "cell_type": "code",
   "execution_count": 50,
   "metadata": {},
   "outputs": [],
   "source": [
    "#desired response in valid JSON format\n",
    "content_moderation_response_example = '''\n",
    "{\n",
    "\"Text\": \"You are such an idiot for thinking that!\",\n",
    "\"Identified Issue\": \"Offensive content\",\n",
    "\"Moderation Action\": \"Warning or content removal\"\n",
    "\"Reasoning\": \"The text includes name-calling and derogatory language,\n",
    "which is inappropriate and harmful.\"\n",
    "}\n",
    "'''"
   ]
  },
  {
   "cell_type": "code",
   "execution_count": 56,
   "metadata": {},
   "outputs": [],
   "source": [
    "#system prompt for content moderation\n",
    "content_moderation_task_system_prompt = f'''\n",
    "Identify if the following text is offensive, harmful or inappropriate.\n",
    "Provide the reasoning as well as the appropriate moderation action. The moderation action can be either a warning or content removal.\n",
    "Here is an example:\n",
    "Prompt: \"You are such an idiot for thinking that!\"\n",
    "Desired Response in valid JSON format: {content_moderation_response_example}\n",
    "The \"Identified Issue\" and \"Moderation Action\" fields should be \"N/A\" if the text is not offensive, harmful or inappropriate.\n",
    "'''"
   ]
  },
  {
   "cell_type": "code",
   "execution_count": 57,
   "metadata": {},
   "outputs": [
    {
     "name": "stdout",
     "output_type": "stream",
     "text": [
      "{\n",
      "\"Text\": \"I can't believe they hired such an incompetent person!\",\n",
      "\"Identified Issue\": \"Offensive content\",\n",
      "\"Moderation Action\": \"Warning\",\n",
      "\"Reasoning\": \"The text contains derogatory language ('incompetent person') which can be harmful and offensive.\"\n",
      "}\n",
      "{\n",
      "\"Text\": \"This is a wonderful community, and I love being part of it.\",\n",
      "\"Identified Issue\": \"N/A\",\n",
      "\"Moderation Action\": \"N/A\",\n",
      "\"Reasoning\": \"The text is positive and does not contain any offensive, harmful, or inappropriate content.\"\n",
      "}\n",
      "{\n",
      "\"Text\": \"The event was a disaster; the organizers did a horrible job.\",\n",
      "\"Identified Issue\": \"N/A\",\n",
      "\"Moderation Action\": \"N/A\",\n",
      "\"Reasoning\": \"The text expresses a negative opinion about the event and the organizers, but it does not contain any offensive, harmful, or inappropriate language.\"\n",
      "}\n",
      "{\n",
      "\"Text\": \"You are such an idiot for thinking that!\",\n",
      "\"Identified Issue\": \"Offensive content\",\n",
      "\"Moderation Action\": \"Warning or content removal\",\n",
      "\"Reasoning\": \"The text includes name-calling and derogatory language, which is inappropriate and harmful.\"\n",
      "}\n",
      "{\n",
      "\"Text\": \"I support everyone who works hard to achieve their dreams.\",\n",
      "\"Identified Issue\": \"N/A\",\n",
      "\"Moderation Action\": \"N/A\",\n",
      "\"Reasoning\": \"The text is positive and supportive, promoting hard work and achievement.\"\n",
      "}\n",
      "{\n",
      "\"Text\": \"Get lost, no one wants you here!\",\n",
      "\"Identified Issue\": \"Offensive content\",\n",
      "\"Moderation Action\": \"Warning\",\n",
      "\"Reasoning\": \"The text is hostile and dismissive, creating a negative and unwelcoming environment. It can be hurtful and harmful to the recipient.\"\n",
      "}\n"
     ]
    }
   ],
   "source": [
    "#generate responses and store in list\n",
    "content_moderation_responses_json = []\n",
    "for message in content_moderation_messages:\n",
    "    response = get_completion(content_moderation_task_system_prompt, message)\n",
    "    print(response)\n",
    "    content_moderation_responses_json.append(json.loads(response))\n",
    " "
   ]
  }
 ],
 "metadata": {
  "kernelspec": {
   "display_name": "Python 3",
   "language": "python",
   "name": "python3"
  },
  "language_info": {
   "codemirror_mode": {
    "name": "ipython",
    "version": 3
   },
   "file_extension": ".py",
   "mimetype": "text/x-python",
   "name": "python",
   "nbconvert_exporter": "python",
   "pygments_lexer": "ipython3",
   "version": "3.10.12"
  }
 },
 "nbformat": 4,
 "nbformat_minor": 4
}
