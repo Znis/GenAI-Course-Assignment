{
 "cells": [
  {
   "cell_type": "code",
   "execution_count": 1,
   "metadata": {},
   "outputs": [],
   "source": [
    "import os\n",
    "\n",
    "# Access API keys\n",
    "openai_api_key = os.getenv('OPENAI_API_KEY')\n",
    "pinecone_api_key = os.getenv('PINECONE_API_KEY')\n",
    "os.environ[\"LANGCHAIN_TRACING_V2\"] = \"true\"\n",
    "os.environ['LANGCHAIN_API_KEY'] = os.getenv('LANGCHAIN_API_KEY')\n",
    "os.environ[\"LANGCHAIN_ENDPOINT\"] = \"https://api.langchain.plus\"\n",
    "os.environ[\"LANGCHAIN_PROJECT\"] = \"rag-assignment\""
   ]
  },
  {
   "cell_type": "code",
   "execution_count": 48,
   "metadata": {},
   "outputs": [],
   "source": [
    "from langchain_openai import OpenAIEmbeddings, ChatOpenAI\n",
    "from langchain_pinecone import PineconeVectorStore\n",
    "from langchain.document_loaders import PyPDFLoader\n",
    "from langchain.text_splitter import RecursiveCharacterTextSplitter\n",
    "from pinecone import Pinecone\n",
    "from langchain.chains import RetrievalQAWithSourcesChain\n",
    "from langchain.memory import ConversationBufferMemory\n",
    "from langchain.chains import ConversationalRetrievalChain"
   ]
  },
  {
   "cell_type": "code",
   "execution_count": 41,
   "metadata": {},
   "outputs": [],
   "source": [
    "# Initialize OpenAI\n",
    "#LLM model\n",
    "llm = ChatOpenAI(  \n",
    "    openai_api_key=openai_api_key,  \n",
    "    model_name='gpt-3.5-turbo',  \n",
    "    temperature=0.0  \n",
    ")"
   ]
  },
  {
   "cell_type": "code",
   "execution_count": 6,
   "metadata": {},
   "outputs": [],
   "source": [
    "index_name = \"rag-assignment\""
   ]
  },
  {
   "cell_type": "code",
   "execution_count": 20,
   "metadata": {},
   "outputs": [],
   "source": [
    "pc = Pinecone(api_key=pinecone_api_key)\n",
    "index = pc.Index(index_name)"
   ]
  },
  {
   "cell_type": "code",
   "execution_count": 7,
   "metadata": {},
   "outputs": [],
   "source": [
    "model_name = \"text-embedding-ada-002\"\n",
    "\n",
    "embeddings = OpenAIEmbeddings(\n",
    "    model=model_name,\n",
    "    openai_api_key=openai_api_key\n",
    ")"
   ]
  },
  {
   "cell_type": "code",
   "execution_count": 36,
   "metadata": {},
   "outputs": [],
   "source": [
    "vectorstore = PineconeVectorStore(index_name=index_name, embedding=embeddings, pinecone_api_key=pinecone_api_key, text_key='nepal-constitution-2072')"
   ]
  },
  {
   "cell_type": "code",
   "execution_count": 9,
   "metadata": {},
   "outputs": [],
   "source": [
    "#load document in the vector store\n",
    "file = 'nepal-constitution-2072.pdf'"
   ]
  },
  {
   "cell_type": "code",
   "execution_count": 12,
   "metadata": {},
   "outputs": [],
   "source": [
    "# load documents\n",
    "loader = PyPDFLoader(file)\n",
    "documents = loader.load()\n",
    "# split documents\n",
    "text_splitter = RecursiveCharacterTextSplitter(chunk_size=1000, chunk_overlap=150)\n",
    "docs = text_splitter.split_documents(documents)\n"
   ]
  },
  {
   "cell_type": "code",
   "execution_count": 22,
   "metadata": {},
   "outputs": [
    {
     "name": "stdout",
     "output_type": "stream",
     "text": [
      "{'dimension': 1536,\n",
      " 'index_fullness': 0.0,\n",
      " 'namespaces': {'': {'vector_count': 936}},\n",
      " 'total_vector_count': 936}\n"
     ]
    }
   ],
   "source": [
    "print(index.describe_index_stats())\n",
    "\n"
   ]
  },
  {
   "cell_type": "code",
   "execution_count": 46,
   "metadata": {},
   "outputs": [
    {
     "data": {
      "text/plain": [
       "[Document(metadata={'page': 0.0, 'source': '/tmp/tmpp7o83c8n/tmp.pdf'}, page_content='1 \\n  \\n \\n \\n \\nTHE CONSTITUTION OF NEPAL'),\n",
       " Document(metadata={'page': 197.0, 'source': '/tmp/tmpp7o83c8n/tmp.pdf'}, page_content='198 \\n until election to the President or Vice -President is held and he or she assumes \\noffice.  \\n281. Appraisal and review of special rights : The Government of Nepal shall make \\nappraisal  and review of the implementation of special rights of the women and \\nDalit  community and impacts thereof, on the basis of human development \\nindex, concurrently with a national census to be held in every ten years.  \\n282. Ambassadors and special emissaries : (1) The President may, on the basis of the \\nprinciple of inclusion, appoint Nepalese ambassadors, and special emissaries \\nfor any specific purposes.  \\n   (2) The President shall receive letters of credentials from foreign \\nambassadors and diplomatic representat ives.  \\n283. Appointments to be made  in accordance with  inclusive principle : Appointments \\nto office s of Constitutional Organs and B odies shall be made in accordance \\nwith the inclusive principle.  \\n284. Provisions relating to Constitutional Council : (1) There s hall be a'),\n",
       " Document(metadata={'page': 53.0, 'source': '/tmp/tmpp7o83c8n/tmp.pdf'}, page_content='54 \\n Part-7 \\nFederal  Executive  \\n74. Form of g overnment : The form of government of Nepal shall be multi -party, \\ncompetitive, federal, democratic, republican, parliamentary form of \\ngovernment based on pluralism.  \\n75. Executive p ower : (1) The executive power of Nepal shall, pursua nt to this \\nConstitution and law , be vested in the Council of Ministers.  \\n(2) The responsibility for issuing general directive s, controlling and \\nregulatin g the governance of Nepal shall, subje ct to this Constitution and law , \\nlie in the Council of Ministers.  \\n(3) All Federal  executive functions of Nepal shall be performed in \\nthe name of the Government of Nepal.  \\n(4) Any decision or order to be issued in the name of the \\nGovernment of Nepal pursuant to clause (3) and other instruments of \\nauthorization pertaining thereto shall be authenticated as provided for in the \\nFederal  law. \\n76. Constitution of Council of Ministers : (1) The Presiden t shall appoint the leader')]"
      ]
     },
     "execution_count": 46,
     "metadata": {},
     "output_type": "execute_result"
    }
   ],
   "source": [
    "query = \"nepal constitution\"\n",
    "vectorstore.max_marginal_relevance_search(query, k=3)"
   ]
  },
  {
   "cell_type": "code",
   "execution_count": 47,
   "metadata": {},
   "outputs": [
    {
     "data": {
      "text/plain": [
       "{'question': 'nepal constitution',\n",
       " 'answer': \"The Constitution of Nepal was published on September 20, 2015, in the Nepal Gazette. It internalizes the people's sovereign right and right to autonomy and self-rule, while maintaining freedom, sovereignty, territorial integrity, national unity, independence, and dignity of Nepal. It also aims to end all forms of discrimination and oppression created by the feudalistic, autocratic, centralized, unitary system of governance, and promote social and cultural solidarity, tolerance, harmony, and unity in diversity.\\n\",\n",
       " 'sources': '/tmp/tmpp7o83c8n/tmp.pdf'}"
      ]
     },
     "execution_count": 47,
     "metadata": {},
     "output_type": "execute_result"
    }
   ],
   "source": [
    "qa_with_sources = RetrievalQAWithSourcesChain.from_chain_type(  \n",
    "    llm=llm,  \n",
    "    chain_type=\"stuff\",  \n",
    "    retriever=vectorstore.as_retriever()  \n",
    ")  \n",
    "qa_with_sources.invoke(query) "
   ]
  },
  {
   "cell_type": "code",
   "execution_count": 87,
   "metadata": {},
   "outputs": [],
   "source": [
    "memory = ConversationBufferMemory(\n",
    "    memory_key=\"chat_history\",\n",
    "    return_messages=True,\n",
    "    output_key='answer'\n",
    ")"
   ]
  },
  {
   "cell_type": "code",
   "execution_count": 88,
   "metadata": {},
   "outputs": [],
   "source": [
    "retriever=vectorstore.as_retriever(search_type=\"mmr\", search_kwargs={\"k\": 4})\n",
    "qa = ConversationalRetrievalChain.from_llm(\n",
    "    llm,\n",
    "    retriever=retriever,\n",
    "    memory=memory,\n",
    "    chain_type=\"stuff\", \n",
    "    return_source_documents=True,\n",
    "    return_generated_question=True,\n",
    ")"
   ]
  },
  {
   "cell_type": "code",
   "execution_count": 77,
   "metadata": {},
   "outputs": [],
   "source": [
    "memory.clear()"
   ]
  },
  {
   "cell_type": "code",
   "execution_count": 89,
   "metadata": {},
   "outputs": [],
   "source": [
    "question = \"who is he?\"\n",
    "result = qa.invoke({\"question\": question})"
   ]
  },
  {
   "cell_type": "code",
   "execution_count": null,
   "metadata": {},
   "outputs": [
    {
     "name": "stdout",
     "output_type": "stream",
     "text": [
      "question: who is he?\n",
      "\n",
      "\n",
      "chat_history: [HumanMessage(content='who is he?'), AIMessage(content='I\\'m sorry, but based on the context provided, I cannot determine who \"he\" is referring to. If you can provide more information or context, I may be able to help you better.'), HumanMessage(content='who is he?'), AIMessage(content=\"I don't have enough context to determine who specifically is being referred to in your question.\")]\n",
      "\n",
      "\n",
      "answer: I don't have enough context to determine who specifically is being referred to in your question.\n",
      "\n",
      "\n",
      "source_documents: [Document(metadata={'page': 235.0, 'source': '/tmp/tmpp7o83c8n/tmp.pdf'}, page_content='236'), Document(metadata={'page': 16.0, 'source': '/tmp/tmpp7o83c8n/tmp.pdf'}, page_content='any person who is authorized by law to represent any person in any court.  \\n(3) Any person who is arrested shall be produced before the \\nadjudicating authority within a period of twenty -four hours of such arrest , \\nexcluding the time necessary for the journey from the place of arrest  to such'), Document(metadata={'page': 223.0, 'source': '/tmp/tmpp7o83c8n/tmp.pdf'}, page_content='224 \\n Schedule -2 \\n(Relating to clause (1) of Article 9)  \\nNational Anthem  of Nepal  \\n \\nSayaun Thunga Phool K a Hami  Eutai Mala Nepali  \\nSarvavha um V ai Failiyeka Mechi M ahakali  \\nPrakitika Koti Koti Sampad a Ko A anchala  \\nBir Haruka Ragata Le Swatantra Ra A tala \\nGyana Bhumi Shanti Bhumi Terai Pahad H imala  \\nAkhanda Yo Pyaro Hamro Matri Bhumi Nepal  \\nBahul Jati Bhasa Dharma Sanskriti Chan B ishala  \\nAgragami Rastra Hamro Jaya Jaya Nepal.'), Document(metadata={'page': 168.0, 'source': '/tmp/tmpp7o83c8n/tmp.pdf'}, page_content='appointment,  \\n(c) having attained the age of forty five years,  \\n(d) being of high moral ch aracter.  \\n(7) The remuneration and other conditions of service of the \\nChairperson and m embers of the National Natural Resources and Fiscal \\nCommission s hall be as provided for in  the Federal l aw, and their  remuneration \\nand conditions of service shall not, so  long as they hold office, be altered to \\ntheir disadvantage.  \\nProvided that this provision shall not apply in cases where a state of \\nemergency is declared because of extreme economic disarrays.  \\n(8) A person once appointed as the Chairperson or a m ember of t he \\nNational Natural Resources and Fiscal Commission shall not be eligible for \\nappointment in other government service.')]\n",
      "\n",
      "\n",
      "generated_question: Who are you referring to?\n",
      "\n",
      "\n"
     ]
    }
   ],
   "source": [
    "for k,v in result.items():\n",
    "    print(f'{k}: {v}')\n",
    "    print('\\n')"
   ]
  }
 ],
 "metadata": {
  "kernelspec": {
   "display_name": "rag_env",
   "language": "python",
   "name": "python3"
  },
  "language_info": {
   "codemirror_mode": {
    "name": "ipython",
    "version": 3
   },
   "file_extension": ".py",
   "mimetype": "text/x-python",
   "name": "python",
   "nbconvert_exporter": "python",
   "pygments_lexer": "ipython3",
   "version": "3.10.12"
  }
 },
 "nbformat": 4,
 "nbformat_minor": 2
}
