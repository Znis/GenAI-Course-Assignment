{
 "cells": [
  {
   "cell_type": "markdown",
   "metadata": {},
   "source": [
    "# <b>Getting started with Generative-AI </b>\n",
    "Submitted By: <b><i>Jenish Twayana</i></b>  \n",
    "\n",
    "Submitted Date: <b><i>9th September, 2024</i></b>  "
   ]
  },
  {
   "cell_type": "markdown",
   "metadata": {},
   "source": [
    "## Final Project\n",
    "<b>Objective:</b>    \n",
    "\n",
    "Build a Retrieval-Augmented Generation (RAG) based chatbot to efficiently\n",
    "extract and provide information from the PDF of the Constitution of Nepal 2072."
   ]
  },
  {
   "cell_type": "markdown",
   "metadata": {},
   "source": [
    "## The project is hosted in Streamlit.\n",
    "### Here is the link: https://askaboutnepalconstitution.streamlit.app/"
   ]
  },
  {
   "cell_type": "markdown",
   "metadata": {},
   "source": [
    "### Set up the environment variables for LangChain Tracing\n",
    "It logs the tracing data in the LangSmith web interface."
   ]
  },
  {
   "cell_type": "code",
   "execution_count": 1,
   "metadata": {},
   "outputs": [],
   "source": [
    "import os\n",
    "\n",
    "openai_api_key = os.getenv('OPENAI_API_KEY')\n",
    "pinecone_api_key = os.getenv('PINECONE_API_KEY')\n",
    "\n",
    "os.environ[\"LANGCHAIN_TRACING_V2\"] = \"true\"\n",
    "os.environ['LANGCHAIN_API_KEY'] = os.getenv('LANGCHAIN_API_KEY')\n",
    "os.environ[\"LANGCHAIN_ENDPOINT\"] = \"https://api.langchain.plus\"\n",
    "os.environ[\"LANGCHAIN_PROJECT\"] = \"rag-assignment\""
   ]
  },
  {
   "cell_type": "markdown",
   "metadata": {},
   "source": [
    "### Import the necessary packages and libraries"
   ]
  },
  {
   "cell_type": "code",
   "execution_count": 2,
   "metadata": {},
   "outputs": [],
   "source": [
    "from langchain_openai import OpenAIEmbeddings, ChatOpenAI\n",
    "from langchain_pinecone import PineconeVectorStore\n",
    "from langchain.document_loaders import PyPDFLoader\n",
    "from langchain.text_splitter import RecursiveCharacterTextSplitter\n",
    "from pinecone import Pinecone\n",
    "from langchain.chains import RetrievalQAWithSourcesChain\n",
    "from langchain.memory import ConversationBufferMemory\n",
    "from langchain.chains import ConversationalRetrievalChain"
   ]
  },
  {
   "cell_type": "markdown",
   "metadata": {},
   "source": [
    "### Initialise the Chat Model"
   ]
  },
  {
   "cell_type": "code",
   "execution_count": 3,
   "metadata": {},
   "outputs": [],
   "source": [
    "# Initialize OpenAI\n",
    "#LLM model\n",
    "llm = ChatOpenAI(  \n",
    "    openai_api_key=openai_api_key,  \n",
    "    model_name='gpt-3.5-turbo',  \n",
    "    temperature=0.0  \n",
    ")"
   ]
  },
  {
   "cell_type": "code",
   "execution_count": 4,
   "metadata": {},
   "outputs": [],
   "source": [
    "index_name = \"rag-assignment\""
   ]
  },
  {
   "cell_type": "markdown",
   "metadata": {},
   "source": [
    "### Initialize the Pinecone"
   ]
  },
  {
   "cell_type": "code",
   "execution_count": 5,
   "metadata": {},
   "outputs": [],
   "source": [
    "pc = Pinecone(api_key=pinecone_api_key)\n",
    "index = pc.Index(index_name)"
   ]
  },
  {
   "cell_type": "markdown",
   "metadata": {},
   "source": [
    "### Initialize the Embeddings model"
   ]
  },
  {
   "cell_type": "code",
   "execution_count": 6,
   "metadata": {},
   "outputs": [],
   "source": [
    "model_name = \"text-embedding-ada-002\"\n",
    "\n",
    "embeddings = OpenAIEmbeddings(\n",
    "    model=model_name,\n",
    "    openai_api_key=openai_api_key\n",
    ")"
   ]
  },
  {
   "cell_type": "markdown",
   "metadata": {},
   "source": [
    "# Initialize the vectorstore (Pinecone)"
   ]
  },
  {
   "cell_type": "code",
   "execution_count": 7,
   "metadata": {},
   "outputs": [],
   "source": [
    "vectorstore = PineconeVectorStore(index_name=index_name, embedding=embeddings, pinecone_api_key=pinecone_api_key, text_key='nepal-constitution-2072')"
   ]
  },
  {
   "cell_type": "markdown",
   "metadata": {},
   "source": [
    "### Load the document (pdf)"
   ]
  },
  {
   "cell_type": "code",
   "execution_count": 8,
   "metadata": {},
   "outputs": [],
   "source": [
    "file = 'nepal-constitution-2072.pdf'"
   ]
  },
  {
   "cell_type": "code",
   "execution_count": 9,
   "metadata": {},
   "outputs": [],
   "source": [
    "# load documents\n",
    "loader = PyPDFLoader(file)\n",
    "documents = loader.load()"
   ]
  },
  {
   "cell_type": "markdown",
   "metadata": {},
   "source": [
    "### Split the document"
   ]
  },
  {
   "cell_type": "code",
   "execution_count": 10,
   "metadata": {},
   "outputs": [],
   "source": [
    "# split documents\n",
    "text_splitter = RecursiveCharacterTextSplitter(chunk_size=1000, chunk_overlap=150)\n",
    "docs = text_splitter.split_documents(documents)"
   ]
  },
  {
   "cell_type": "markdown",
   "metadata": {},
   "source": [
    "### Add the document chunks in the vectorstore (Pinecone)"
   ]
  },
  {
   "cell_type": "code",
   "execution_count": null,
   "metadata": {},
   "outputs": [],
   "source": [
    "vectorstore_from_docs = PineconeVectorStore.from_documents(\n",
    "    docs,\n",
    "    index_name=index_name,\n",
    "    embedding=embeddings\n",
    ")"
   ]
  },
  {
   "cell_type": "code",
   "execution_count": 11,
   "metadata": {},
   "outputs": [
    {
     "name": "stdout",
     "output_type": "stream",
     "text": [
      "{'dimension': 1536,\n",
      " 'index_fullness': 0.0,\n",
      " 'namespaces': {'': {'vector_count': 936}},\n",
      " 'total_vector_count': 936}\n"
     ]
    }
   ],
   "source": [
    "print(index.describe_index_stats())"
   ]
  },
  {
   "cell_type": "markdown",
   "metadata": {},
   "source": [
    "### Testing the document chunks retrieval"
   ]
  },
  {
   "cell_type": "code",
   "execution_count": 13,
   "metadata": {},
   "outputs": [
    {
     "data": {
      "text/plain": [
       "[Document(metadata={'page': 0.0, 'source': '/tmp/tmpp7o83c8n/tmp.pdf'}, page_content='1 \\n  \\n \\n \\n \\nTHE CONSTITUTION OF NEPAL'),\n",
       " Document(metadata={'page': 197.0, 'source': '/tmp/tmpp7o83c8n/tmp.pdf'}, page_content='198 \\n until election to the President or Vice -President is held and he or she assumes \\noffice.  \\n281. Appraisal and review of special rights : The Government of Nepal shall make \\nappraisal  and review of the implementation of special rights of the women and \\nDalit  community and impacts thereof, on the basis of human development \\nindex, concurrently with a national census to be held in every ten years.  \\n282. Ambassadors and special emissaries : (1) The President may, on the basis of the \\nprinciple of inclusion, appoint Nepalese ambassadors, and special emissaries \\nfor any specific purposes.  \\n   (2) The President shall receive letters of credentials from foreign \\nambassadors and diplomatic representat ives.  \\n283. Appointments to be made  in accordance with  inclusive principle : Appointments \\nto office s of Constitutional Organs and B odies shall be made in accordance \\nwith the inclusive principle.  \\n284. Provisions relating to Constitutional Council : (1) There s hall be a'),\n",
       " Document(metadata={'page': 53.0, 'source': '/tmp/tmpp7o83c8n/tmp.pdf'}, page_content='54 \\n Part-7 \\nFederal  Executive  \\n74. Form of g overnment : The form of government of Nepal shall be multi -party, \\ncompetitive, federal, democratic, republican, parliamentary form of \\ngovernment based on pluralism.  \\n75. Executive p ower : (1) The executive power of Nepal shall, pursua nt to this \\nConstitution and law , be vested in the Council of Ministers.  \\n(2) The responsibility for issuing general directive s, controlling and \\nregulatin g the governance of Nepal shall, subje ct to this Constitution and law , \\nlie in the Council of Ministers.  \\n(3) All Federal  executive functions of Nepal shall be performed in \\nthe name of the Government of Nepal.  \\n(4) Any decision or order to be issued in the name of the \\nGovernment of Nepal pursuant to clause (3) and other instruments of \\nauthorization pertaining thereto shall be authenticated as provided for in the \\nFederal  law. \\n76. Constitution of Council of Ministers : (1) The Presiden t shall appoint the leader'),\n",
       " Document(metadata={'page': 215.0, 'source': '/tmp/tmpp7o83c8n/tmp.pdf'}, page_content='(1) shall be held in accordance with law.  \\n   (3) The officials of the Local Bodies elected in accordance with \\nclause (2) shall continue to hold office until election to the Local level is held \\nin accordance with this Constitution.  \\n304. Existing l aws to remain in f orce: (1) The Nepal laws in force at the time of \\ncommence ment of thi s Constitution shall continue to be in force until such laws \\nare repealed or amended.  \\nProvided that any law which is inconsistent with this Constitution shall \\nipso facto  be invalid to the extent of such inconsistency, after one year of the \\ndate on which the first session of the Federal Parliament set forth in this \\nConstitution is held.  \\n(2) Acts relating to peace process under the Interim Constitution of \\nNepal, 2007 (2063)  shall be deemed to have been done under this Constitution.')]"
      ]
     },
     "execution_count": 13,
     "metadata": {},
     "output_type": "execute_result"
    }
   ],
   "source": [
    "query = \"nepal constitution\"\n",
    "vectorstore.max_marginal_relevance_search(query, k=4)"
   ]
  },
  {
   "cell_type": "markdown",
   "metadata": {},
   "source": [
    "### QA with source chain"
   ]
  },
  {
   "cell_type": "code",
   "execution_count": 14,
   "metadata": {},
   "outputs": [
    {
     "data": {
      "text/plain": [
       "{'question': 'nepal constitution',\n",
       " 'answer': \"The Constitution of Nepal was published on September 20, 2015, in the Nepal Gazette. It emphasizes the people's sovereign right, autonomy, self-rule, freedom, sovereignty, territorial integrity, national unity, independence, and dignity of Nepal. It also aims to end discrimination and oppression and promote social and cultural solidarity, tolerance, harmony, and unity in diversity.\\n\",\n",
       " 'sources': '/tmp/tmpp7o83c8n/tmp.pdf'}"
      ]
     },
     "execution_count": 14,
     "metadata": {},
     "output_type": "execute_result"
    }
   ],
   "source": [
    "qa_with_sources = RetrievalQAWithSourcesChain.from_chain_type(  \n",
    "    llm=llm,  \n",
    "    chain_type=\"stuff\",  \n",
    "    retriever=vectorstore.as_retriever()  \n",
    ")  \n",
    "qa_with_sources.invoke(query) "
   ]
  },
  {
   "cell_type": "markdown",
   "metadata": {},
   "source": [
    "### Initializing memory for the RAG"
   ]
  },
  {
   "cell_type": "code",
   "execution_count": 15,
   "metadata": {},
   "outputs": [],
   "source": [
    "memory = ConversationBufferMemory(\n",
    "    memory_key=\"chat_history\",\n",
    "    return_messages=True,\n",
    "    output_key='answer'\n",
    ")"
   ]
  },
  {
   "cell_type": "markdown",
   "metadata": {},
   "source": [
    "### Initializing Retriever"
   ]
  },
  {
   "cell_type": "code",
   "execution_count": 16,
   "metadata": {},
   "outputs": [],
   "source": [
    "retriever=vectorstore.as_retriever(search_type=\"mmr\", search_kwargs={\"k\": 4})"
   ]
  },
  {
   "cell_type": "markdown",
   "metadata": {},
   "source": [
    "### QA chain for RAG"
   ]
  },
  {
   "cell_type": "code",
   "execution_count": 17,
   "metadata": {},
   "outputs": [],
   "source": [
    "qa = ConversationalRetrievalChain.from_llm(\n",
    "    llm,\n",
    "    retriever=retriever,\n",
    "    memory=memory,\n",
    "    chain_type=\"stuff\", \n",
    "    return_source_documents=True,\n",
    "    return_generated_question=True,\n",
    ")"
   ]
  },
  {
   "cell_type": "code",
   "execution_count": 18,
   "metadata": {},
   "outputs": [],
   "source": [
    "question = \"who made the constitution?\"\n",
    "result = qa.invoke({\"question\": question})"
   ]
  },
  {
   "cell_type": "code",
   "execution_count": 19,
   "metadata": {},
   "outputs": [
    {
     "name": "stdout",
     "output_type": "stream",
     "text": [
      "question: who made the constitution?\n",
      "\n",
      "\n",
      "chat_history: [HumanMessage(content='who made the constitution?'), AIMessage(content='The Constitution of Nepal was made by the Constituent Assembly.')]\n",
      "\n",
      "\n",
      "answer: The Constitution of Nepal was made by the Constituent Assembly.\n",
      "\n",
      "\n",
      "source_documents: [Document(metadata={'page': 6.0, 'source': '/tmp/tmpp7o83c8n/tmp.pdf'}, page_content='7 \\n Do hereby pass and promulgate this Constitution,  through the Constituent Assembly, \\nin order to fulfil the aspirations for sustainable peace, good governance, development \\nand prosperity through the federal , democratic , republic an, system of governance.'), Document(metadata={'page': 0.0, 'source': '/tmp/tmpp7o83c8n/tmp.pdf'}, page_content='1 \\n  \\n \\n \\n \\nTHE CONSTITUTION OF NEPAL'), Document(metadata={'page': 214.0, 'source': '/tmp/tmpp7o83c8n/tmp.pdf'}, page_content='the time of commencement of this Constitution, in excess of the number \\nspecified in this Constitution,  shall continue to hold their respective offices \\nsubject to the conditions of services at the time of their appointments.'), Document(metadata={'page': 1.0, 'source': '/tmp/tmpp7o83c8n/tmp.pdf'}, page_content='2 \\n Table of Content s \\n \\nPreamble   \\nPart-1  \\nPreliminary  \\nPart-2  \\nCitizenship  \\nPart-3  \\nFundamental Rights and Duties  \\nPart-4  \\nDirective Principles, Policies and Obligations of the State  \\nPart-5  \\nStructure of State and Distribution of State Power  \\nPart -6  \\nPresident and Vice -President  \\nPart-7  \\nFederal Executive  \\nPart-8  \\nFederal Legislature  \\nPart-9  \\nFederal Legislative Procedures  \\nPart-10  \\nFederal Financial Procedures  \\nPart-11  \\nJudiciary   \\nPart-12  \\nAttorney General  \\nPart-13  \\nState Executive')]\n",
      "\n",
      "\n",
      "generated_question: who made the constitution?\n",
      "\n",
      "\n"
     ]
    }
   ],
   "source": [
    "for k,v in result.items():\n",
    "    print(f'{k}: {v}')\n",
    "    print('\\n')"
   ]
  }
 ],
 "metadata": {
  "kernelspec": {
   "display_name": "rag_env",
   "language": "python",
   "name": "python3"
  },
  "language_info": {
   "codemirror_mode": {
    "name": "ipython",
    "version": 3
   },
   "file_extension": ".py",
   "mimetype": "text/x-python",
   "name": "python",
   "nbconvert_exporter": "python",
   "pygments_lexer": "ipython3",
   "version": "3.10.12"
  }
 },
 "nbformat": 4,
 "nbformat_minor": 2
}
