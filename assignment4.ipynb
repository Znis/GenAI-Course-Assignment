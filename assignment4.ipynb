{
 "cells": [
  {
   "cell_type": "markdown",
   "metadata": {},
   "source": [
    "# <b>Getting started with Generative-AI </b>\n",
    "Submitted By: <b><i>Jenish Twayana</i></b>  \n",
    "\n",
    "Submitted Date: <b><i>4th September, 2024</i></b>  "
   ]
  },
  {
   "cell_type": "markdown",
   "metadata": {},
   "source": [
    "## Exercise 4: Building a custom weather agent tool\n",
    "<b>Objective:</b>    \n",
    "\n",
    "Create a conversational agent in Langchain that can perform the following task:  \n",
    "● Provide the current temperature for Kathmandu.\n"
   ]
  },
  {
   "cell_type": "markdown",
   "metadata": {},
   "source": [
    "<b>Pre-requisites:</b>  \n",
    "  \n",
    "API Key = bd5e378503939ddaee76f12ad7a97608  \n",
    "url = f\"http://api.openweathermap.org/data/2.5/weather?q={city}&appid={api_key}&units=metric\""
   ]
  },
  {
   "cell_type": "markdown",
   "metadata": {},
   "source": [
    "### Import the necessary packages and libraries"
   ]
  },
  {
   "cell_type": "code",
   "execution_count": 709,
   "metadata": {},
   "outputs": [],
   "source": [
    "import os\n",
    "import requests\n",
    "from langchain_openai import ChatOpenAI\n",
    "from langchain_core.prompts import ChatPromptTemplate, MessagesPlaceholder\n",
    "from langchain.agents.format_scratchpad.openai_tools import format_to_openai_tool_messages\n",
    "from langchain.agents.output_parsers.openai_tools import OpenAIToolsAgentOutputParser\n",
    "from langchain.agents import AgentExecutor\n",
    "from langchain.agents import tool"
   ]
  },
  {
   "cell_type": "markdown",
   "metadata": {},
   "source": [
    "### Set up the environment variables for LangChain Tracing\n",
    "It logs the tracing data in the LangSmith web interface."
   ]
  },
  {
   "cell_type": "code",
   "execution_count": 710,
   "metadata": {},
   "outputs": [],
   "source": [
    "os.environ[\"LANGCHAIN_TRACING_V2\"]=\"true\" # enables the tracing\n",
    "os.environ[\"LANGCHAIN_ENDPOINT\"]=\"https://api.smith.langchain.com\"\n",
    "os.environ[\"LANGCHAIN_API_KEY\"]=os.getenv(\"LANGCHAIN_API_KEY\")\n",
    "os.environ[\"LANGCHAIN_PROJECT\"]=\"assignment-4\" #project name in the LangSmith platform"
   ]
  },
  {
   "cell_type": "markdown",
   "metadata": {},
   "source": [
    "### Initialise the Chat Model"
   ]
  },
  {
   "cell_type": "code",
   "execution_count": 711,
   "metadata": {},
   "outputs": [],
   "source": [
    "llm = ChatOpenAI(model=\"gpt-3.5-turbo\", temperature=0)"
   ]
  },
  {
   "cell_type": "markdown",
   "metadata": {},
   "source": [
    "### Custom Tool for fetching Weather Data"
   ]
  },
  {
   "cell_type": "code",
   "execution_count": 712,
   "metadata": {},
   "outputs": [],
   "source": [
    "@tool\n",
    "def get_weather_data(city: str) -> str:\n",
    "    \"\"\"Calls the Weather API and return the weather data\n",
    "    Args:\n",
    "        city: str\n",
    "    Returns:\n",
    "        str\n",
    "    \"\"\"\n",
    "    url = f\"http://api.openweathermap.org/data/2.5/weather?q={city}&appid={os.getenv('WEATHER_API_KEY')}&units=metric\"\n",
    "    response = requests.get(url)\n",
    "    return str(response.json())\n"
   ]
  },
  {
   "cell_type": "markdown",
   "metadata": {},
   "source": [
    "### Custom Tool for fetching Address Data"
   ]
  },
  {
   "cell_type": "code",
   "execution_count": 713,
   "metadata": {},
   "outputs": [],
   "source": [
    "@tool\n",
    "def get_city_name(location: str) -> str:\n",
    "    \"\"\"Calls the Location API and returns the address data\n",
    "    Args:\n",
    "        location: str\n",
    "    Returns:\n",
    "        str\n",
    "    \"\"\"\n",
    "    url = f\"https://nominatim.openstreetmap.org/search?q={location}&format=json&limit=1\"\n",
    "\n",
    "    headers = {\n",
    "    'User-Agent': 'MyGeocodingApp/1.0 (your-email@example.com)'\n",
    "}\n",
    "\n",
    "    response = requests.get(url, headers=headers)\n",
    "    if(len(response.json()) > 0):\n",
    "        return response.json()[0]\n",
    "        \n",
    "    return \"City not found\""
   ]
  },
  {
   "cell_type": "markdown",
   "metadata": {},
   "source": [
    "### List of Custom Tools"
   ]
  },
  {
   "cell_type": "code",
   "execution_count": 714,
   "metadata": {},
   "outputs": [],
   "source": [
    "tools = [ get_city_name, get_weather_data ]"
   ]
  },
  {
   "cell_type": "markdown",
   "metadata": {},
   "source": [
    "### Prompt Template for the Chat Model"
   ]
  },
  {
   "cell_type": "code",
   "execution_count": 715,
   "metadata": {},
   "outputs": [],
   "source": [
    "prompt = ChatPromptTemplate.from_messages(\n",
    "    [\n",
    "        (\n",
    "            \"system\",\n",
    "            \"\"\"\n",
    "            You are very powerful weather data assistant equipped with multiple tools.\n",
    "              Here is the detailed instruction:\n",
    "              1. Call the Weather API to get the weather data of the city.\n",
    "              2. If the Weather API returns valid response with weather data then, return the weather data in given output format.\n",
    "              3. If the Weather API returns no weather data then, call the Location API to get the city name.\n",
    "              4. If the Location API returns a valid address then, extract only the city name from it.\n",
    "              5. Call the Weather API again to get the weather data of the extracted city.\n",
    "              6. If the Weather API returns valid response with weather data for the extracted city then, return the weather data in given output format for the extracted city.\n",
    "              7. If the Location API returns no valid city name or the Weather API cant get the weather data of the city then, return the response\n",
    "              saying the weather data of the city is not available.\n",
    "              The desired output format for different scenarios are given below:\n",
    "              ###\n",
    "              #Scenario where the weather data of the city or extracted city is available:\n",
    "              Here is the weather data of the city <city_name>:\n",
    "              <weather_data_in_bullet_form (dash separated)>\n",
    "              #\n",
    "              #Scenario where the weather data of the city or extracted city is not available, or city name is not valid:\n",
    "              The weather data of the city <city_name> is not available.\n",
    "              #\n",
    "              ###\n",
    "              \"\"\",\n",
    "\n",
    "        ),\n",
    "        (\"user\", \"{input}\"),\n",
    "        MessagesPlaceholder(variable_name=\"agent_scratchpad\"), # sequence of messages that contain the previous agent tool invocations and the corresponding tool outputs\n",
    "    ]\n",
    ")"
   ]
  },
  {
   "cell_type": "markdown",
   "metadata": {},
   "source": [
    "### Bind the Custom tools to the Chat Model"
   ]
  },
  {
   "cell_type": "code",
   "execution_count": 716,
   "metadata": {},
   "outputs": [],
   "source": [
    "llm_with_tools = llm.bind_tools(tools)"
   ]
  },
  {
   "cell_type": "markdown",
   "metadata": {},
   "source": [
    "### Initialise the Agent"
   ]
  },
  {
   "cell_type": "code",
   "execution_count": 717,
   "metadata": {},
   "outputs": [],
   "source": [
    "agent = (\n",
    "    {\n",
    "        \"input\": lambda x: x[\"input\"],\n",
    "        \"agent_scratchpad\": lambda x: format_to_openai_tool_messages(\n",
    "            x[\"intermediate_steps\"]\n",
    "        ),\n",
    "    }\n",
    "    | prompt\n",
    "    | llm_with_tools\n",
    "    | OpenAIToolsAgentOutputParser()\n",
    ")"
   ]
  },
  {
   "cell_type": "markdown",
   "metadata": {},
   "source": [
    "### Initialise the Agent Executor"
   ]
  },
  {
   "cell_type": "code",
   "execution_count": 718,
   "metadata": {},
   "outputs": [],
   "source": [
    "agent_executor = AgentExecutor(agent=agent, tools=tools, verbose=True)"
   ]
  },
  {
   "cell_type": "markdown",
   "metadata": {},
   "source": [
    "### Execute the Agent with the input"
   ]
  },
  {
   "cell_type": "code",
   "execution_count": 719,
   "metadata": {},
   "outputs": [
    {
     "name": "stdout",
     "output_type": "stream",
     "text": [
      "\n",
      "\n",
      "\u001b[1m> Entering new AgentExecutor chain...\u001b[0m\n",
      "\u001b[32;1m\u001b[1;3m\n",
      "Invoking: `get_weather_data` with `{'city': 'Nagarkot'}`\n",
      "\n",
      "\n",
      "\u001b[0m\u001b[33;1m\u001b[1;3m{'coord': {'lon': 85.5167, 'lat': 27.7}, 'weather': [{'id': 803, 'main': 'Clouds', 'description': 'broken clouds', 'icon': '04d'}], 'base': 'stations', 'main': {'temp': 22.11, 'feels_like': 22.28, 'temp_min': 22.11, 'temp_max': 22.11, 'pressure': 1004, 'humidity': 73, 'sea_level': 1004, 'grnd_level': 804}, 'visibility': 7000, 'wind': {'speed': 4.12, 'deg': 210}, 'clouds': {'all': 75}, 'dt': 1725450687, 'sys': {'type': 1, 'id': 9201, 'country': 'NP', 'sunrise': 1725407901, 'sunset': 1725453358}, 'timezone': 20700, 'id': 1283018, 'name': 'Nagarkot', 'cod': 200}\u001b[0m\u001b[32;1m\u001b[1;3m### \n",
      "Here is the weather data of the city Nagarkot:\n",
      "- Weather: Clouds - broken clouds\n",
      "- Temperature: 22.11°C\n",
      "- Feels Like: 22.28°C\n",
      "- Minimum Temperature: 22.11°C\n",
      "- Maximum Temperature: 22.11°C\n",
      "- Pressure: 1004 hPa\n",
      "- Humidity: 73%\n",
      "- Wind Speed: 4.12 m/s\n",
      "- Visibility: 7000 meters\n",
      "- Sunrise: Time not available\n",
      "- Sunset: Time not available\n",
      "###\u001b[0m\n",
      "\n",
      "\u001b[1m> Finished chain.\u001b[0m\n"
     ]
    }
   ],
   "source": [
    "output = list(agent_executor.stream({\"input\": \"Describe the weather in Nagarkot.\"}))"
   ]
  },
  {
   "cell_type": "markdown",
   "metadata": {},
   "source": [
    "### Display the final output"
   ]
  },
  {
   "cell_type": "code",
   "execution_count": 720,
   "metadata": {},
   "outputs": [
    {
     "name": "stdout",
     "output_type": "stream",
     "text": [
      "### \n",
      "Here is the weather data of the city Nagarkot:\n",
      "- Weather: Clouds - broken clouds\n",
      "- Temperature: 22.11°C\n",
      "- Feels Like: 22.28°C\n",
      "- Minimum Temperature: 22.11°C\n",
      "- Maximum Temperature: 22.11°C\n",
      "- Pressure: 1004 hPa\n",
      "- Humidity: 73%\n",
      "- Wind Speed: 4.12 m/s\n",
      "- Visibility: 7000 meters\n",
      "- Sunrise: Time not available\n",
      "- Sunset: Time not available\n",
      "###\n"
     ]
    }
   ],
   "source": [
    "print(output[-1]['output'])"
   ]
  }
 ],
 "metadata": {
  "kernelspec": {
   "display_name": "genai-assignment-env",
   "language": "python",
   "name": "python3"
  },
  "language_info": {
   "codemirror_mode": {
    "name": "ipython",
    "version": 3
   },
   "file_extension": ".py",
   "mimetype": "text/x-python",
   "name": "python",
   "nbconvert_exporter": "python",
   "pygments_lexer": "ipython3",
   "version": "3.10.12"
  }
 },
 "nbformat": 4,
 "nbformat_minor": 2
}
