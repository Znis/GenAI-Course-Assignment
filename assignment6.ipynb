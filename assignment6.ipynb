{
 "cells": [
  {
   "cell_type": "code",
   "execution_count": 129,
   "metadata": {},
   "outputs": [],
   "source": [
    "import os"
   ]
  },
  {
   "cell_type": "code",
   "execution_count": 130,
   "metadata": {},
   "outputs": [],
   "source": [
    "os.environ[\"LANGCHAIN_TRACING_V2\"]=\"true\" # enables the tracing\n",
    "os.environ[\"LANGCHAIN_ENDPOINT\"]=\"https://api.smith.langchain.com\"\n",
    "os.environ[\"LANGCHAIN_API_KEY\"]=os.getenv(\"LANGCHAIN_API_KEY\")\n",
    "os.environ[\"LANGCHAIN_PROJECT\"]=\"assignment-6\" #project name in the LangSmith platform\n",
    "os.environ['USER_AGENT'] = 'myagent'"
   ]
  },
  {
   "cell_type": "code",
   "execution_count": 131,
   "metadata": {},
   "outputs": [],
   "source": [
    "from langchain_openai import ChatOpenAI\n",
    "import bs4\n",
    "from langchain_community.document_loaders import WebBaseLoader\n",
    "from langchain_text_splitters import RecursiveCharacterTextSplitter\n",
    "from langchain_chroma import Chroma\n",
    "from langchain_openai import OpenAIEmbeddings\n",
    "from langchain_core.output_parsers import StrOutputParser\n",
    "from langchain_core.runnables import RunnablePassthrough\n",
    "from langchain.chains import create_retrieval_chain\n",
    "from langchain.chains.combine_documents import create_stuff_documents_chain\n",
    "from langchain_core.prompts import ChatPromptTemplate\n",
    "from langchain_community.document_loaders import YoutubeLoader\n",
    "\n"
   ]
  },
  {
   "cell_type": "code",
   "execution_count": 132,
   "metadata": {},
   "outputs": [],
   "source": [
    "llm = ChatOpenAI(model=\"gpt-3.5-turbo\", temperature=0)"
   ]
  },
  {
   "cell_type": "code",
   "execution_count": 133,
   "metadata": {},
   "outputs": [
    {
     "data": {
      "text/plain": [
       "202"
      ]
     },
     "execution_count": 133,
     "metadata": {},
     "output_type": "execute_result"
    }
   ],
   "source": [
    "# Only keep post title, headers, and content from the full HTML.\n",
    "bs4_strainer = bs4.SoupStrainer()\n",
    "loader = WebBaseLoader(\n",
    "    web_paths=(\"https://lftechnology.atlassian.net/wiki/spaces/LEAP/pages/3971055677/Code+of+Conduct?atlOrigin=eyJpIjoiZDJhZjQwNWFjNGUxNDQyM2I3ODViNjUzNTA5ZDVlOTUiLCJwIjoiYyJ9\",),\n",
    "    bs_kwargs={\"parse_only\": bs4_strainer},\n",
    ")\n",
    "docs = loader.load()\n",
    "\n",
    "len(docs[0].page_content)"
   ]
  },
  {
   "cell_type": "code",
   "execution_count": 134,
   "metadata": {},
   "outputs": [],
   "source": [
    "loader = YoutubeLoader.from_youtube_url(\n",
    "    \"https://youtu.be/noU9iUMIbq0?list=PL1VW8Wpejk2y9zhwprLdxVS79n36dWc39\",\n",
    "    add_video_info=True,\n",
    "    language=[\"en\", \"id\"],\n",
    "    translation=\"en\",\n",
    ")\n",
    "docs = loader.load()"
   ]
  },
  {
   "cell_type": "code",
   "execution_count": 135,
   "metadata": {},
   "outputs": [
    {
     "name": "stdout",
     "output_type": "stream",
     "text": [
      "[Music]  [Music]  hello and welcome back everyone after  that short intermission uh we've got our  first lightning session speaker for  today we've got biplup subedi project  manager here at leapfrog my fellow  colleague so  let me call him on to the speaker's  platform  are you with us  hi kritika hello everyone yeah i'm here  hi biplob  okay so there was a photo of you that uh  in which you were working from a valley  top um  yeah that went viral on routine of nepal  so  what do you think remote working has  brought in terms of not being tied down  to the four walls of an office  yeah like  two things right i feel so much  privileged because i used to be a big  fan of nature and especially the the  natural beauty of nepal and  even  before three four years it was not  possible because  we didn't had good uh electricity  facility the internet internet coverage  was not good right and since last two  three years um thanks to nea  thanks to all the isps we have  we have good electricity on every uh  corners of nepal now  not everywhere but what most of those  remote areas and also we have a good uh  4g coverage in many parts of nepal and  those are the two fundamental things  for us in order to pursue our work right  so yeah i'm i'm so  so much blessed uh about this thing and  i love doing this thing frequently  and  two major important benefits when we  work in front of nature um  the the level of stress right because  the way we work our work is basically  the knowledge work we used to think a  lot we used to  uh you know use our mind a lot while  working and with all those views uh  and with all those uh feeling of fish  here uh mountaineer  uh it really feels great pretty good  yeah i mean look at the view from where  you're  it's just so serene you know  not having to be tied down to your  bedroom or your home office and  inhaling some pretty good oxygen  it just looks really refreshing  so a follow-up question on that uh that  i would like to ask you is  um you know kathmandu has become this  the domestic immigration hub for  employment and  um i know that you've traveled back and  traveled to pokhara and your village  there uh to go back to work do you think  that  with the pandemic and with the growth of  remote work  employment opportunities can be provided  to different individuals living in  remote villages of nepal or you know  just outside of kathmandu  absolutely yes right as i said before  we just need two things in order to work  uh we need a good internet and we need a  good electricity facility and that is  now available in in many parts of nepal  uh i have been doing this a lot of time  not in one place i i used to do a lot i  used to take the break up two three  weeks in every alternative month  and  in many places we have the good for the  internet and we have the electricity so  definitely we can definitely approach  all those talents uh and not only  approach that we can like all those  people right who are migrated to  kathmandu we have the home in village  they can definitely try out go to the  village and try to work from there it  will definitely be the good experience  but one thing is  uh like for for example for me right i  cannot go back to village permanently uh  because there are  there are some concerns of of  a good education system um things like  that  but we can definitely take a break  and go there frequently and uh  enjoy the enjoy this opportunity  trust me i envy that um  one meeting that we shared where  you were the favorite i was behind you  and trust me i envied you so much it  looked like a good escape  from the daily  walls of my room yeah and also one thing  like even if you don't have your home or  things like that there are so many  homesteads now in many hills of nepal  i used to  like one suggestion i used to choose the  community home stay  so in community home stay we can also  feel the culture of different  communities um there is less crowd right  uh and the economically it is really  cheap last time when i  was in a kalibang homicide near pokhara  it was near from pokhara i just paid 900  rupees for three course meal and um bed  everything so like 900 rupees per day  for everything is really cheap for us so  we can definitely go out there and stay  for one or two weeks uh  and take the uh privilege  awesome thank you  it was fun talking to you um everyone in  the audience will be back in five  minutes with udhikari who is our senior  manager uh business integration and  architect at accenture thank you bible  to stay with us thank you thank you\n"
     ]
    }
   ],
   "source": [
    "print(docs[0].page_content)"
   ]
  },
  {
   "cell_type": "code",
   "execution_count": 136,
   "metadata": {},
   "outputs": [
    {
     "data": {
      "text/plain": [
       "6"
      ]
     },
     "execution_count": 136,
     "metadata": {},
     "output_type": "execute_result"
    }
   ],
   "source": [
    "text_splitter = RecursiveCharacterTextSplitter(\n",
    "    chunk_size=1000, chunk_overlap=200, add_start_index=True\n",
    ")\n",
    "all_splits = text_splitter.split_documents(docs)\n",
    "\n",
    "len(all_splits)"
   ]
  },
  {
   "cell_type": "code",
   "execution_count": 137,
   "metadata": {},
   "outputs": [
    {
     "data": {
      "text/plain": [
       "{'source': 'noU9iUMIbq0',\n",
       " 'title': 'Freedom of Remote Working |  Biplab Subedi | Syntax 2021',\n",
       " 'description': 'Unknown',\n",
       " 'view_count': 222,\n",
       " 'thumbnail_url': 'https://i.ytimg.com/vi/noU9iUMIbq0/hq720.jpg',\n",
       " 'publish_date': '2021-08-26 00:00:00',\n",
       " 'length': 332,\n",
       " 'author': 'Leapfrog Technology',\n",
       " 'start_index': 0}"
      ]
     },
     "execution_count": 137,
     "metadata": {},
     "output_type": "execute_result"
    }
   ],
   "source": [
    "len(all_splits[0].page_content)\n",
    "all_splits[0].metadata"
   ]
  },
  {
   "cell_type": "code",
   "execution_count": 138,
   "metadata": {},
   "outputs": [],
   "source": [
    "vectorstore = Chroma.from_documents(documents=all_splits, embedding=OpenAIEmbeddings())"
   ]
  },
  {
   "cell_type": "code",
   "execution_count": 139,
   "metadata": {},
   "outputs": [],
   "source": [
    "retriever = vectorstore.as_retriever(search_type=\"similarity\", search_kwargs={\"k\": 4})"
   ]
  },
  {
   "cell_type": "code",
   "execution_count": 140,
   "metadata": {},
   "outputs": [],
   "source": [
    "system_prompt = (\n",
    "    \"You are an assistant for question-answering tasks. \"\n",
    "    \"Use the following pieces of retrieved context to answer \"\n",
    "    \"the question.\"\n",
    "    \"You can only answer questions about the context.\"\n",
    "    \"The answer must be referenced from the context only.\" \n",
    "    \"If you don't know the answer or the answer cannot be found based\"\n",
    "    \"on the context then, say that you don't know.\" \n",
    "    \"Use three sentences maximum and keep the \"\n",
    "    \"answer concise.\"\n",
    "    \"\\n\\n\"\n",
    "    \"{context}\"\n",
    ")\n",
    "\n",
    "prompt = ChatPromptTemplate.from_messages(\n",
    "    [\n",
    "        (\"system\", system_prompt),\n",
    "        (\"human\", \"{input}\"),\n",
    "    ]\n",
    ")"
   ]
  },
  {
   "cell_type": "code",
   "execution_count": 141,
   "metadata": {},
   "outputs": [
    {
     "name": "stdout",
     "output_type": "stream",
     "text": [
      "Task Decomposition is crucial when it comes to designing an API as it enhances the user experience by breaking down complex tasks into smaller, more manageable subtasks. It helps in simplifying pagination in hierarchical structures, making it easier for users to navigate through the content efficiently. Task Decomposition is a method that can be applied in various contexts to improve the overall usability and functionality of a system or process."
     ]
    }
   ],
   "source": [
    "def format_docs(docs):\n",
    "    return \"\\n\\n\".join(doc.page_content for doc in docs)\n",
    "\n",
    "\n",
    "rag_chain = (\n",
    "    {\"context\": retriever | format_docs, \"input\": RunnablePassthrough()}\n",
    "    | prompt\n",
    "    | llm\n",
    "    | StrOutputParser()\n",
    ")\n",
    "\n",
    "for chunk in rag_chain.stream('What is Task Decomposition?'):\n",
    "    print(chunk, end=\"\", flush=True)"
   ]
  },
  {
   "cell_type": "code",
   "execution_count": 143,
   "metadata": {},
   "outputs": [
    {
     "name": "stdout",
     "output_type": "stream",
     "text": [
      "I don't know.\n"
     ]
    }
   ],
   "source": [
    "#built in chain for the implementation of above LCEL\n",
    "question_answer_chain = create_stuff_documents_chain(llm, prompt)\n",
    "rag_chain = create_retrieval_chain(retriever, question_answer_chain)\n",
    "\n",
    "response = rag_chain.invoke({\"input\": \"how to eat a banana?\"})\n",
    "print(response[\"answer\"])"
   ]
  },
  {
   "cell_type": "code",
   "execution_count": null,
   "metadata": {},
   "outputs": [],
   "source": []
  }
 ],
 "metadata": {
  "kernelspec": {
   "display_name": "genai-assignment-env",
   "language": "python",
   "name": "python3"
  },
  "language_info": {
   "codemirror_mode": {
    "name": "ipython",
    "version": 3
   },
   "file_extension": ".py",
   "mimetype": "text/x-python",
   "name": "python",
   "nbconvert_exporter": "python",
   "pygments_lexer": "ipython3",
   "version": "3.10.12"
  }
 },
 "nbformat": 4,
 "nbformat_minor": 2
}
