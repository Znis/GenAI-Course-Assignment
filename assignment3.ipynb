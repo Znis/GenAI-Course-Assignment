{
 "cells": [
  {
   "cell_type": "markdown",
   "metadata": {},
   "source": [
    "# <b>Getting started with Generative-AI </b>\n",
    "Submitted By: <b><i>Jenish Twayana</i></b>  \n",
    "\n",
    "Submitted Date: <b><i>4th September, 2024</i></b>  "
   ]
  },
  {
   "cell_type": "markdown",
   "metadata": {},
   "source": [
    "## Exercise 3: Building a Sequential Chain\n",
    "<b>Objective:</b>    \n",
    "\n",
    "Create a sequential chain in Langchain that performs the following operations on a given input\n",
    "text:\n",
    "● Convert the text to lowercase.\n",
    "● Remove any punctuation from the text.\n",
    "● Identify and extract named entities from the text (e.g., names of people, organizations,\n",
    "locations).\n",
    "● Summarize the text to one sentence.\n",
    "● Return the processed text, the named entities, and the summary."
   ]
  },
  {
   "cell_type": "markdown",
   "metadata": {},
   "source": [
    "<b>Text:</b>  \n",
    "\n",
    "\"Apple Inc. is an American multinational technology company headquartered in Cupertino,\n",
    "California, that designs, develops, and sells consumer electronics, computer software, and\n",
    "online services. It is considered one of the Big Five companies in the U.S. information\n",
    "technology industry, along with Amazon, Google, Microsoft, and Facebook.\""
   ]
  },
  {
   "cell_type": "markdown",
   "metadata": {},
   "source": [
    "### Import the necessary packages and the libraries"
   ]
  },
  {
   "cell_type": "code",
   "execution_count": 87,
   "metadata": {},
   "outputs": [],
   "source": [
    "from langchain.prompts import ChatPromptTemplate\n",
    "from langchain_openai import ChatOpenAI\n",
    "from langchain_core.output_parsers import StrOutputParser\n",
    "from langchain_core.runnables import RunnableLambda\n",
    "from langchain.schema.runnable import RunnablePassthrough\n",
    "import os"
   ]
  },
  {
   "cell_type": "markdown",
   "metadata": {},
   "source": [
    "### Set up the environment variables for LangChain Tracing\n",
    "It logs the tracing data in the LangSmith web interface."
   ]
  },
  {
   "cell_type": "code",
   "execution_count": 2,
   "metadata": {},
   "outputs": [],
   "source": [
    "os.environ[\"LANGCHAIN_TRACING_V2\"]=\"true\"\n",
    "os.environ[\"LANGCHAIN_ENDPOINT\"]=\"https://api.smith.langchain.com\"\n",
    "os.environ[\"LANGCHAIN_API_KEY\"]=os.getenv(\"LANGCHAIN_API_KEY\")\n",
    "os.environ[\"LANGCHAIN_PROJECT\"]=\"assignment-3\""
   ]
  },
  {
   "cell_type": "markdown",
   "metadata": {},
   "source": [
    "### Initialise the Chat Model"
   ]
  },
  {
   "cell_type": "code",
   "execution_count": 3,
   "metadata": {},
   "outputs": [],
   "source": [
    "llm = ChatOpenAI(model=\"gpt-3.5-turbo\", temperature=0, api_key=os.getenv(\"OPENAI_API_KEY\"))"
   ]
  },
  {
   "cell_type": "markdown",
   "metadata": {},
   "source": [
    "### Input Text"
   ]
  },
  {
   "cell_type": "code",
   "execution_count": 145,
   "metadata": {},
   "outputs": [],
   "source": [
    "text = '''Apple Inc. is an American multinational technology company headquartered in Cupertino, \n",
    "California, that designs, develops, and sells consumer electronics, computer software, and online services. \n",
    "It is considered one of the Big Five companies in the U.S. information technology industry, along with Amazon, Google, Microsoft, and Facebook.'''"
   ]
  },
  {
   "cell_type": "markdown",
   "metadata": {},
   "source": [
    "### Create a custom chain to convert the text into lowercase"
   ]
  },
  {
   "cell_type": "code",
   "execution_count": 146,
   "metadata": {},
   "outputs": [],
   "source": [
    "def to_lowercase(input: str) -> dict:\n",
    "    return {\"text\": input, \"lowercase_text\": input.lower()}\n",
    "\n",
    "lowercase_text_chain = RunnableLambda(to_lowercase) # converts callable into runnable"
   ]
  },
  {
   "cell_type": "markdown",
   "metadata": {},
   "source": [
    "### Create a chain that removes the punctuations from the text"
   ]
  },
  {
   "cell_type": "code",
   "execution_count": 147,
   "metadata": {},
   "outputs": [],
   "source": [
    "punctuation_remove_template: str = \"\"\" \n",
    "Remove the punctuation from the following text:\n",
    "{text}\n",
    "\"\"\"\n",
    "\n",
    "punctuation_remove_prompt_template = ChatPromptTemplate.from_template(\n",
    "    punctuation_remove_template)\n",
    "\n",
    "punctuation_remove_chain = punctuation_remove_prompt_template | llm | StrOutputParser()"
   ]
  },
  {
   "cell_type": "markdown",
   "metadata": {},
   "source": [
    "### Create a chain that extracts the entities from the text"
   ]
  },
  {
   "cell_type": "code",
   "execution_count": 168,
   "metadata": {},
   "outputs": [],
   "source": [
    "extract_entities_template: str = \"\"\" \n",
    "Identify and extract named entities from the following text. The entities can be names of people, organizations or\n",
    "locations etc. The desired output is valid python JSON format where the key is the entity category and values are the list of entities.\n",
    "Here is the text:\n",
    "{text}\n",
    "\"\"\"\n",
    "\n",
    "extract_entities_prompt_template = ChatPromptTemplate.from_template(\n",
    "    extract_entities_template)\n",
    "\n",
    "extract_entities_chain = extract_entities_prompt_template | llm | StrOutputParser()"
   ]
  },
  {
   "cell_type": "markdown",
   "metadata": {},
   "source": [
    "### Create a chain that summarizes the text"
   ]
  },
  {
   "cell_type": "code",
   "execution_count": 156,
   "metadata": {},
   "outputs": [],
   "source": [
    "summarize_text_template: str = \"\"\" \n",
    "Summarize the following text in one sentence:\n",
    "{text}\n",
    "\"\"\"\n",
    "\n",
    "summarize_text_prompt_template = ChatPromptTemplate.from_template(\n",
    "   summarize_text_template)\n",
    "\n",
    "summarize_text_chain = summarize_text_prompt_template | llm | StrOutputParser()"
   ]
  },
  {
   "cell_type": "markdown",
   "metadata": {},
   "source": [
    "### Create a sequential chain"
   ]
  },
  {
   "cell_type": "code",
   "execution_count": 169,
   "metadata": {},
   "outputs": [],
   "source": [
    "ss_chain = (lowercase_text_chain | \n",
    "            RunnablePassthrough.assign(punctuation_removed_text=punctuation_remove_chain) |  # runnablepassthrough is used to store the output of chain\n",
    "            RunnablePassthrough.assign(extracted_entities=extract_entities_chain) | \n",
    "            RunnablePassthrough.assign(summarized_text=summarize_text_chain))\n",
    "\n",
    "output = ss_chain.invoke(text)\n",
    "print(output)"
   ]
  },
  {
   "cell_type": "markdown",
   "metadata": {},
   "source": [
    "### Display the output with proper formatting"
   ]
  },
  {
   "cell_type": "code",
   "execution_count": 170,
   "metadata": {},
   "outputs": [
    {
     "name": "stdout",
     "output_type": "stream",
     "text": [
      "text: Apple Inc. is an American multinational technology company headquartered in Cupertino, California, that designs, develops, and sells consumer electronics, computer software, and online services. It is considered one of the Big Five companies in the U.S. information technology industry, along with Amazon, Google, Microsoft, and Facebook.\n",
      "\n",
      "\n",
      "lowercase_text: apple inc. is an american multinational technology company headquartered in cupertino, california, that designs, develops, and sells consumer electronics, computer software, and online services. it is considered one of the big five companies in the u.s. information technology industry, along with amazon, google, microsoft, and facebook.\n",
      "\n",
      "\n",
      "punctuation_removed_text: Apple Inc is an American multinational technology company headquartered in Cupertino California that designs develops and sells consumer electronics computer software and online services It is considered one of the Big Five companies in the US information technology industry along with Amazon Google Microsoft and Facebook\n",
      "\n",
      "\n",
      "extracted_entities: {\n",
      "  \"ORGANIZATION\": [\"Apple Inc.\", \"Amazon\", \"Google\", \"Microsoft\", \"Facebook\"],\n",
      "  \"LOCATION\": [\"Cupertino\", \"California\", \"U.S.\"]\n",
      "}\n",
      "\n",
      "\n",
      "summarized_text: Apple Inc. is a major American technology company known for designing and selling consumer electronics, software, and online services, and is one of the top companies in the U.S. information technology industry.\n",
      "\n",
      "\n"
     ]
    }
   ],
   "source": [
    "for k, v in output.items():\n",
    "    print(f\"{k}: {v}\")\n",
    "    print(\"\\n\")"
   ]
  }
 ],
 "metadata": {
  "kernelspec": {
   "display_name": "genai-assignment-env",
   "language": "python",
   "name": "python3"
  },
  "language_info": {
   "codemirror_mode": {
    "name": "ipython",
    "version": 3
   },
   "file_extension": ".py",
   "mimetype": "text/x-python",
   "name": "python",
   "nbconvert_exporter": "python",
   "pygments_lexer": "ipython3",
   "version": "3.10.12"
  }
 },
 "nbformat": 4,
 "nbformat_minor": 2
}
